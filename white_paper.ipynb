{
 "cells": [
  {
   "cell_type": "markdown",
   "metadata": {},
   "source": [
    "# <ins>Bureau of Trash & Services -- BT&Se.d.</ins>"
   ]
  },
  {
   "cell_type": "markdown",
   "metadata": {},
   "source": [
    "## <ins>White Paper</ins>\n",
    "\n",
    "### What is Your Businesss?\n",
    "* Our business coordinates in the handeling of waste removal, known as the ***Bureau of Trash & Services(extra division)***,commonly refferred to as the **BT&Sed**. We are a federal entity that works under the Department of Sanitation for the City of New York, that help the five boroughs as an extension to their already established santiation departments. We work in coordinating with the five boroughs in handeling any extra demand that may have been caused due to inclement weather, or due to employee|employer disputes. Due to highly fluctuating periods of high and low necessity, our business also aids in coordinating with New Yorkers directly, to help aid in recycling efforts and general 'beautification' standards of New York. \n",
    "\n",
    "### What is the Business Ethos?\n",
    "* Our mission is to help in the upkeep and general santiation for the five(5) boroughs of New York. To keep New Yorkers' surrounding environments as free of litter, and help in recylcing efforts to foster a strong eco-centric community. \n",
    "\n",
    "### What do you Produce/Make/Offer/Sell?\n",
    "* The **New York City Department of Sanitation (DSNY)**, as well as the **Bureau of Trash and Services (BT&Sed)** is the department of the government of New York City responsible for garbage collection, recycling collection, street cleaning, and snow removal.\n",
    "\n",
    "### Who is your Target Audience?\n",
    "* Mainly New Yorkers, ***restricted to the five boroughs***. \n",
    "\n",
    "### What are the Key Motivations of Why you Expect People to Visit your Website and how you Will Attract and Motivate People Therein?\n",
    "* The **BT&Sed** hopes to help the hardworking, tax paying New Yorkers in keeping thier neighborhoods clean and free of vermin that can come associated with unsanitary conditions. As this is a service available free of charge to the tax-payers of New York, this should incentivize New Yorkerse to report unsanitary conditions around thier neighborhoods that may be outside the scope of a conventional sanitation district. \n",
    "\n",
    "### Do They Want General Information / Research, or are They After Something Specific?\n",
    "* As we aren't a consistent entity and normally operate in periods of high tempo, there may not be a large public knowledge of our services. Thus we will ensure our website has a general FAQ section that contains a general background synopsis and our services. \n",
    "\n",
    "### Are They Already Familiar With the Service or Product that you Offer or Do They Need to be Introduced to it?\n",
    "* Our website will contain the services as well as a general synopsis pertaingin to our businesss history. As New Yorkers are well versed in thier already established neighborhood sanitation practices, the **BT&Sed** intends to extend the already well established infrastructure of the New York Department of Santiation and it's child entitites. \n",
    "\n",
    "### Are They Looking for Time Sensitive Information, such as the Latest News or Updates on A Particular Topic?\n",
    "* Our business intends to rotate around the boroughs of New York depending on the day of the week. We also plan on incoporating a schedule that New Yorkers can identify a borough with their specific day of the week. New Yorkers will also have to establish a personal user account if they hope in using our personal delivery, or general unsanitary reporting functioanalities. \n",
    "\n",
    "### Do They Want to Discover Information About a Specific Product or Service to Help Them Decide Whether to Buy It or Not?\n",
    "* Our website will include a general FAQ pertaining to the **BT&Sed** and how they hope to foster a community centered around cleanliness and safety. Being that our services are free of charge to the tax payer of New Yorker, their should not be much fiscal weight pertaining to using our application. Being that our business is a ***child-like entity*** or ***subsidary*** of the Department of Sanitation for New York, our users should not have much issue trusting the validity of our services as we follow the same federal guidelines followed by all United State Federal Entitites. \n",
    "\n",
    "### Do they need to contact you? If so, can they visit in person (which might require opening hours and a map)? Or might they need email or telephone contact details. \n",
    "* Users will have the capability to inform the **BT&Sed** of any areas in their neighborhood that require special addressing. This in addition to our at home pickup, is to be scheduled on the same-day that our ***waste-handler specialist teams** are addressing that specific borough. As many of our services are limited to the borough's one assigned day, it is vital that the our clients schedule and make reports centered around this. Our website will include a general FAQ, which will a contact page with information in how to get in touch with the **BT&Sed**. \n",
    "\n",
    "### Will Visitors be Familiar With Your Subject Area/Brand or Do You Need to Introduce Yourself?\n",
    "* This information will be included in our general FAQ area.\n",
    "\n",
    "### Will They be Familiar with the Product/Service/Information you Are Covering or do They Need Background Information on it? \n",
    "* The services offered will be listed on the website, as well covered in depth in our general FAQ section. \n",
    "\n",
    "### What are the most important features of what you are offering?\n",
    "* On-Site Reporting w/GPS Functionality, At-Home Pick-Up Service, User/Password Capability \n",
    "\n",
    "### What is Special About What you Offer that Differentiates you From Other Sites That Offer Something Similar?\n",
    "* There are currently not many at-home, waste-reporting service(s). The **BT&Sed** will not have much in terms of competition to deal with, being as this is a federal entity and a ***subsidary*** of the **Department of Santiation** of New York. \n",
    "\n",
    "### Once People ave Achieved the Goal that Sent them to your Site, Are There Common Questions People Ask About this Subject Area?\n",
    "* Any common general concerns pertaining to the services our our business entity can be found in the FAQ and General Information Pages. "
   ]
  },
  {
   "cell_type": "markdown",
   "metadata": {},
   "source": [
    "### Your white paper should explain how you implemented concepts in visual hierarchy, grouping, and similarity in your design\n",
    "* My initial conception of The Bureau of Trash & Services wensite was inspired by many modern websites that entice their users by utilizing carousels that help draw the users in with images relating to the subject matter. Being that New York is normally synonymous with large amounts of public littering and trash in general, it was natural to conceptualize a website application that served the five boroughs of New York. I used both grid and flexbox in conjunction with one another to provide a flexible, responsive website to lay aspects of the website in a format that would be easily readable for the typical web user. The home page is made up of a carousel of web images that come from the five(5) boroughs of New York. In addition, in order to provide the users with information pertaining to the service, we have provided both an ABOUT US and a FAQ page. The images initally set as smaller, rounded corner images that collectively take up the whole landing page. Once clicked, the images expand to showcase that one section while the other images stay the same. Their is a basic search function tab in the top right corner, that also changes and expands when clicked and will prompt the user for input. Each page of the website can be accessed via the homepage, by clicking on these images. In addition to this web page accessibility via the sliding panel images, their is a clickable tab that will rotate the landing page to the right from the set point in the top right corner. This will reveal the clickble links and navigation bar that can be viewed and accessed through all the web pages in the website. A clickable 'X' will be revealed as well once the website page has been rotated. By clicking the 'X' the website will revert to its previous format, and the rotation will be reverted to the website's pages initial state. Much of the website is laid out in a similar format utizling both the grid and flex display styles, but for the rest of the website it's a bit more simply to provide users with the information regarding the pickup times for the resepcted boroughs. The navigation bar, and name of the company will be found on every webpage. The Contact Us portion of the web page has a simple contact us form that showcases a blur loading page that cues the user when the form is ready to be submitted. The FAQ Link is featured on the hidden navigation link, a separate entity from the other portions of the website. The FAQ webpage has a a similiar blur feature that is essentially the same as the 'Contact Us' page. The FAQ page is seperated and styled for readability and to retrieve information quickly. It has a small table showcased towards the bottom of the webpage that features three(3) important employees of the service that user(s) can contact if need be. As for the rest of the pages, which comprise of the five(5) different boroughs, each of the individual borough webpages are laid out in a very consistent format. They are styled in an aspect that is similiar to the overall styled themed of the website. They are laid out in different, small digestable sections that make it simple for the user(s) to obtain the necessary information based on the trash pickup of the respective borough. "
   ]
  },
  {
   "cell_type": "markdown",
   "metadata": {},
   "source": [
    "### Your white paper should take another website (that already exists on the web) and analyze it based on the above, creating a wireframe for it as well.\n",
    "* The website that was chosen was the department of sanitation of new york, this website was choosen as a model to study in order to understand what worked well and what didn't. Upon inspecting the website, it is not only responsive and dynamic but has a clean layout format that showcases each of the respective sections of the website in a clear format. The webisite is laid out utilizing bootstrap, grid and flex similar to the website that I created, albeit the layout is much more robust. Each repsective section of the website is responsive, and dynamically shrinks and grows as needed. In addition their are sizable amount of links found throughout the website, and the website at first glance seems to have two footer sections at the bottom. Upon, closer inspection the first footer section are for social media links and external links, while the further footer section contains the internal routes/links to the other portions of the website. The navigation bar is always shown, albeit it is displayed differently depending on the size of the window browser at the time. The home page of the DSNY website has a similiar carousel design, but the section that portion lives does not take the whole page and is fixed to allow for the user to scroll past this section and continue to different aspects of the website. The carousel is not only filled with images, but also to links(both internal and external)that are related to the subject matter. The overall aesthetic is consistent, amongst all the web pages and thus gives the user a notion of consistency throughout their experience."
   ]
  }
 ],
 "metadata": {
  "language_info": {
   "name": "python"
  },
  "orig_nbformat": 4
 },
 "nbformat": 4,
 "nbformat_minor": 2
}
