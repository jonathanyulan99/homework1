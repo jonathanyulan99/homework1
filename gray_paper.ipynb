{
 "cells": [
  {
   "cell_type": "markdown",
   "metadata": {},
   "source": [
    "# <ins>Bureau of Trash & Services -- BT&Se.d.</ins>"
   ]
  },
  {
   "cell_type": "markdown",
   "metadata": {},
   "source": [
    "## GRAY PAPER for BT&Se.d."
   ]
  },
  {
   "cell_type": "markdown",
   "metadata": {},
   "source": [
    "### 1st Aspect - Asset Folder"
   ]
  },
  {
   "cell_type": "markdown",
   "metadata": {},
   "source": [
    "<img src=\"./gray_paper/1.PNG\" width=\"400\" height=\"450\" />"
   ]
  },
  {
   "cell_type": "markdown",
   "metadata": {},
   "source": [
    "* I created an **assets** folder in order to ensure that all the .jpg images were housed in a readily found place, and to help with the file structure. This is something I will implement in future products for seperate .css, .js , and .html files."
   ]
  },
  {
   "cell_type": "markdown",
   "metadata": {},
   "source": [
    "### 2nd Aspect - Navigation Font-Awesome Icons"
   ]
  },
  {
   "cell_type": "markdown",
   "metadata": {},
   "source": [
    "<img src=\"./gray_paper/2.PNG\" width=\"1200\" height=\"450\" />"
   ]
  },
  {
   "cell_type": "markdown",
   "metadata": {},
   "source": [
    "* The website utilizes font-awesome icons which is a seperate framework that augments the website's CSS capabilties. This provides specific icons that are not readily found in the standard .css library "
   ]
  },
  {
   "cell_type": "markdown",
   "metadata": {},
   "source": [
    "### 3rd Aspect - Circle Container Navigation Bar "
   ]
  },
  {
   "cell_type": "markdown",
   "metadata": {},
   "source": [
    "<img src=\"./gray_paper/3.PNG\" width=\"600\" height=\"300\">"
   ]
  },
  {
   "cell_type": "markdown",
   "metadata": {},
   "source": [
    "* The **div** that is showcased here is the div that contains the button for the navigation bar. The navigation bar utilzes the script font-awesome icons that give the website a more personlized feel and aesthetic look."
   ]
  },
  {
   "cell_type": "markdown",
   "metadata": {},
   "source": [
    "### 4th Aspect - Font-Awesome Script Source"
   ]
  },
  {
   "cell_type": "markdown",
   "metadata": {},
   "source": [
    "<img src=\"./gray_paper/4.PNG\" width=\"auto\" height=\"75\">"
   ]
  },
  {
   "cell_type": "markdown",
   "metadata": {},
   "source": [
    "* This is an additional <code>script source</code> seperate from the traditional *script source* that provides the javascript dynamic functionality. Instead, this *script source* is what allows us to utilze the **font-awesome** icon libraries that are embededed in several portions of our code.  "
   ]
  },
  {
   "cell_type": "markdown",
   "metadata": {},
   "source": [
    "### 5th Aspect - Search Bar Functionality"
   ]
  },
  {
   "cell_type": "markdown",
   "metadata": {},
   "source": [
    "<img src=\"./gray_paper/5.PNG\" width=\"auto\" height=\"200\">"
   ]
  },
  {
   "cell_type": "markdown",
   "metadata": {},
   "source": [
    "* The website includes a **search bar** functionality that is found throughout the website. The **search feature** in conjunction with some <code>CSS</code> shrinks and dyanmically scales the search bar input feature once clicked. "
   ]
  },
  {
   "cell_type": "markdown",
   "metadata": {},
   "source": [
    "### 6th Aspect - Search Bar Dynamic Shrink/Show"
   ]
  },
  {
   "cell_type": "markdown",
   "metadata": {},
   "source": [
    "<img src=\"./gray_paper/6.PNG\" width=\"auto\" height=\"200\">"
   ]
  },
  {
   "cell_type": "markdown",
   "metadata": {},
   "source": [
    "* As mentioned above, the Javascript feature above provides the capability to hide and show the search bar feature once the *search-button* feature is clicked. "
   ]
  },
  {
   "cell_type": "markdown",
   "metadata": {},
   "source": [
    "### 7th Aspect - Navigation Bar Shown and Not Shown"
   ]
  },
  {
   "cell_type": "markdown",
   "metadata": {},
   "source": [
    "<img src=\"./gray_paper/7.PNG\" width=\"auto\" height=\"100\">"
   ]
  },
  {
   "cell_type": "markdown",
   "metadata": {},
   "source": [
    "* This is the javascript code that permits the navigation bar to show and to dissapear. In conjunction with the <code>CSS</code> and <code>HTML</code> rotates the webpage to show the navigation bar and then by clicking the *close* icon reverts the webpage to its original state by hiding the *navigation bar*. "
   ]
  },
  {
   "cell_type": "markdown",
   "metadata": {},
   "source": [
    "### 8th Aspect - Search Bar CSS "
   ]
  },
  {
   "cell_type": "markdown",
   "metadata": {},
   "source": [
    "<img src=\"./gray_paper/8.PNG\" width=\"1000\" height=\"600\">"
   ]
  },
  {
   "cell_type": "markdown",
   "metadata": {},
   "source": [
    "* The search bar CSS functionality that provides the transform and transition cues and paremeters to allow the icon to sit on-top of the search-bar and then expands once it is clicked with the <code> open, close, eventListener</code>."
   ]
  },
  {
   "cell_type": "markdown",
   "metadata": {},
   "source": [
    "### 9th Aspect - Font Family Integrated via GoogleAPI"
   ]
  },
  {
   "cell_type": "markdown",
   "metadata": {},
   "source": [
    "<img src=\"./gray_paper/9.PNG\" width=\"auto\" height=\"500\">"
   ]
  },
  {
   "cell_type": "markdown",
   "metadata": {},
   "source": [
    "* The website is personlized to include an aesthetic design that provideseasy readibility for its users. The website, depending on the browser will first try to load the custom but default font of *lato* which is imported via the *@import url()* feature. If the browser is unable to laod the *lato* font, it is then loaded with the default, readibly available font *sans-serif*."
   ]
  },
  {
   "cell_type": "markdown",
   "metadata": {},
   "source": [
    "### 10th Aspect - Circle Container CSS"
   ]
  },
  {
   "cell_type": "markdown",
   "metadata": {},
   "source": [
    "<img src=\"./gray_paper/11.PNG\" height=\"auto\" width=\"auto\">"
   ]
  },
  {
   "cell_type": "markdown",
   "metadata": {},
   "source": [
    "* This is the <code>CSS</code> that is formats the circle container and button. We remove the backround, and place the circle container in the top-left corner and rotate it to give it the aesthetic look that we are going for. Th button itself is removed and only the icons are left to give our website a very personalized look when users are clicking on it."
   ]
  },
  {
   "cell_type": "markdown",
   "metadata": {},
   "source": [
    "### 11th Aspect - Circle Button CSS Open and Close "
   ]
  },
  {
   "cell_type": "markdown",
   "metadata": {},
   "source": [
    "<img src=\"gray_paper/10.PNG\" height=\"auto\" width=\"auto\">"
   ]
  },
  {
   "cell_type": "markdown",
   "metadata": {},
   "source": [
    "* The <code>CSS</code> that allows us to juxtapose the positioning of the *open* and *close* *font-awesome* icons for the navigation bar."
   ]
  },
  {
   "cell_type": "markdown",
   "metadata": {},
   "source": [
    "### 12th Aspect - Overall Website Layout "
   ]
  },
  {
   "cell_type": "markdown",
   "metadata": {},
   "source": [
    "<img src=\"gray_paper/12.PNG\" height=\"600\" width=\"300\">"
   ]
  },
  {
   "cell_type": "markdown",
   "metadata": {},
   "source": [
    "* The website is laid out in a way that provides each webpage with its own distinct <code>.css</code> and <code>.js</code> resources. "
   ]
  },
  {
   "cell_type": "markdown",
   "metadata": {},
   "source": [
    "### 13th Aspect - Navigation Bar"
   ]
  },
  {
   "cell_type": "markdown",
   "metadata": {},
   "source": [
    "<img src=\"gray_paper/13.PNG\" height=\"400\" width=\"auto\">"
   ]
  },
  {
   "cell_type": "markdown",
   "metadata": {},
   "source": [
    "* Note that the navigation bar is found at the bottom of the <code>Body</code> portion, but is never present on any page unless the <code> circle-container </code> access is clicked. The Navigation bar is showcased on each page of the website, albeit it is defaulted off screen and can not be seen unless, the user clicks on the <code>button-show</code> aspect on the website. "
   ]
  },
  {
   "cell_type": "markdown",
   "metadata": {},
   "source": [
    "### 14th Aspect - Grid Layout Customized"
   ]
  },
  {
   "cell_type": "markdown",
   "metadata": {},
   "source": [
    "<img src=\"gray_paper/14.PNG\" height=\"400\" width=\"auto\">"
   ]
  },
  {
   "cell_type": "markdown",
   "metadata": {},
   "source": [
    "* The website utilzies the <code> grid </code> format in conjunction with <code> flex</code> in order to emulate the wireframe that we designed for the website. As shown above, the website's main page and for much of the other pages followes a similar default <code>grid</code> layout. The website is divided into 7 columns by 3 different rows, with set labels for each respective row and column. The main webpage of the website, has a background-image that takes in a url() and displays a persnalized look diffrent from the other webpages on the website."
   ]
  },
  {
   "cell_type": "markdown",
   "metadata": {},
   "source": [
    "### 15th Aspect - Panels Display w/Images"
   ]
  },
  {
   "cell_type": "markdown",
   "metadata": {},
   "source": [
    "<img src=\"gray_paper/15.PNG\" height=\"800\" width=\"1200\">"
   ]
  },
  {
   "cell_type": "markdown",
   "metadata": {},
   "source": [
    "* The main webpage of the website displays images of the five(5) respective boroughs of New York, as well as the *Contact Us* and *FAQ* page. The panels are placed in specific areas of the webpage with the <code>grid</code> layout, and then in conjunction with <code>flex</code> to permit the responsive, dynamic opening and closing of the web-images(panels). The panels are linked to the other webpages, and permits for easily accessing the website's individual webapges on the website. "
   ]
  },
  {
   "cell_type": "markdown",
   "metadata": {},
   "source": [
    "### 16th Aspect - Panels Display JavaScript Dynamic Opening and Closing"
   ]
  },
  {
   "cell_type": "markdown",
   "metadata": {},
   "source": [
    "<img src=\"gray_paper/16.PNG\" height=\"400\" width=\"800\">"
   ]
  },
  {
   "cell_type": "markdown",
   "metadata": {},
   "source": [
    "* The above <code> JavaScript </code> is what allows for the dyanmic aspect of the opening and closing of the panels of images, for the carousel found on our main webpage. "
   ]
  },
  {
   "cell_type": "markdown",
   "metadata": {},
   "source": [
    "### 17th Aspect - Panels CSS"
   ]
  },
  {
   "cell_type": "markdown",
   "metadata": {},
   "source": [
    "<img src=\"gray_paper/17.PNG\" height=\"400\" width=\"800\">"
   ]
  },
  {
   "cell_type": "markdown",
   "metadata": {},
   "source": [
    "* The above .css found in the index.css file is the default settings of the image panels that control the carousel's dyamic changing dimension. These are the default settings, of the container that house the image panels. As you can see we are using <code> flex </code> here to control the dynamic responsivness of the changing dimensions, and cueing our transitiion portions. "
   ]
  },
  {
   "cell_type": "markdown",
   "metadata": {},
   "source": [
    "### 18th Aspect - Navigation Bar Display Format"
   ]
  },
  {
   "cell_type": "markdown",
   "metadata": {},
   "source": [
    "<img src=\"gray_paper/18.PNG\" height=\"auto\" width=\"auto\">"
   ]
  },
  {
   "cell_type": "markdown",
   "metadata": {},
   "source": [
    "* The above <code>CSS</code> code is the style formatting that is appllied to our navigation bar, and gives it that hierarchial tree-directory feel. This provides the the user with an intutive, clear way of making their way through the website. As showcased above, the <code>CSS</code> above uses different selectors (child selctors and descendent) to select the individual navigation links on the website. "
   ]
  },
  {
   "cell_type": "markdown",
   "metadata": {},
   "source": [
    "### 19th Aspect - Panel Flex Changes when Active"
   ]
  },
  {
   "cell_type": "markdown",
   "metadata": {},
   "source": [
    "<img src=\"gray_paper/19.PNG\" height=\"auto\" width=\"auto\">"
   ]
  },
  {
   "cell_type": "markdown",
   "metadata": {},
   "source": [
    "* As showcased in the above portion of the **gray paper**, the individual containers where the panel images live have different style formats depending on whether that panel has been clicked(i.e. active). The selectors are quite similiar, but with a different selector for when the panel is clicked (i.e. <code>div.flex-item.active#panel</code>) it will have a different default flex numeric value that will be relative to the other flex items in that container. The <code> flex</code> style formatting has different numeric values as these values are relative to the **flex-items** in the **flex-container**. "
   ]
  },
  {
   "cell_type": "markdown",
   "metadata": {},
   "source": [
    "### 20th Aspect - Media Query "
   ]
  },
  {
   "cell_type": "markdown",
   "metadata": {},
   "source": [
    "<img src=\"gray_paper/20.PNG\" height=\"300\" width=\"auto\">"
   ]
  },
  {
   "cell_type": "markdown",
   "metadata": {},
   "source": [
    "* The above is a media query that goes into effect when the max-width of the browser dimension is 480pixels. Once the browser gets to 480pixels or less, the above CSS style formatting will be applied. This ensures that on smaller screesn that the carousel is restricted to not displaying all the different image panels showcased above. "
   ]
  },
  {
   "cell_type": "markdown",
   "metadata": {},
   "source": [
    "### 21st Aspect - Link's | <code>A</code> CSS "
   ]
  },
  {
   "cell_type": "markdown",
   "metadata": {},
   "source": [
    "<img src=\"gray_paper/21.PNG\" height=\"300\" width=\"auto\">"
   ]
  },
  {
   "cell_type": "markdown",
   "metadata": {},
   "source": [
    "* Personalized <code>CSS</code> to get rid of the default settings pertaining to links. We have also added some personalized <code>CSS</code> code to make the <code>font-size</code> larger when *hovering* over the link. This is applied to all the <code>A</code> links in the page, and changed the default coloring to give it an aesthetic, perosnalized look. "
   ]
  },
  {
   "cell_type": "markdown",
   "metadata": {},
   "source": [
    "### 22nd Aspect - Table <code>HTML</code> Element"
   ]
  },
  {
   "cell_type": "markdown",
   "metadata": {},
   "source": [
    "<img src=\"gray_paper/22.PNG\" height=\"auto\" width=\"auto\">"
   ]
  },
  {
   "cell_type": "markdown",
   "metadata": {},
   "source": [
    "* The above code snipped represents an <code>HTML</code> code element that is utilized as an aesethic, pleasing way of representing a small section of members that the website users can contact."
   ]
  },
  {
   "cell_type": "markdown",
   "metadata": {},
   "source": [
    "### 23rd Aspect - <code>CSS</code> for <code>HTML</code> *Table* Element"
   ]
  },
  {
   "cell_type": "markdown",
   "metadata": {},
   "source": [
    "<img src=\"gray_paper/23.PNG\" height=\"200\" width=\"auto\">"
   ]
  },
  {
   "cell_type": "markdown",
   "metadata": {},
   "source": [
    "* <CODE>CSS</code> styling for the above <code>HTML</code> *table* element that provides style changes dynamically when the user hovers over specific *table* elements. Utilizes the *background* styling with the *linear-gradient* <code>CSS</code> property to provide a dynamic, personalized aesthetic look when hovering over the table data specific entries."
   ]
  },
  {
   "cell_type": "markdown",
   "metadata": {},
   "source": [
    "### 24th Aspect - <code>HTML</code> *Ordered List* Element"
   ]
  },
  {
   "cell_type": "markdown",
   "metadata": {},
   "source": [
    "<img src=\"gray_paper/24.PNG\" height=\"150\" width=\"auto\">"
   ]
  },
  {
   "cell_type": "markdown",
   "metadata": {},
   "source": [
    "* The above showcases an <code> HTML Ordered List</code> element that is meant to provide a clear and easy way for a user(s) to identify which materials are recyclable, throwable and unacceptable."
   ]
  },
  {
   "cell_type": "markdown",
   "metadata": {},
   "source": [
    "### 25th Aspect - <code>Inline-CSS</code> styling for *Table* Element"
   ]
  },
  {
   "cell_type": "markdown",
   "metadata": {},
   "source": [
    "<image src=\"gray_paper/25.PNG\" height=\"200\" width=\"auto\" />"
   ]
  },
  {
   "cell_type": "markdown",
   "metadata": {},
   "source": [
    "* Simple inline <code>CSS</code> styling that is meant to override the linked <code>inedxFAQ.css</code> style sheet and default settings that are set to the last row and utilzies the <code>colspan CSS</code> styling."
   ]
  },
  {
   "cell_type": "markdown",
   "metadata": {},
   "source": [
    "### 26th Aspect - Blurry Loading Text "
   ]
  },
  {
   "cell_type": "markdown",
   "metadata": {},
   "source": [
    "<img src=\"gray_paper/26.PNG\" height=\"auto\" width=\"auto\">"
   ]
  },
  {
   "cell_type": "markdown",
   "metadata": {},
   "source": [
    "* <code> Z-index </code> is utilized here in order to provide the blurry screen loading, that is meant to sit on top of the webpage. This feature is only provided to the FAQ page and the Contact Us page. The <code> CSS</code> styling gives the user a visible cue when the page is loaded, and serves as a way to delay asynchronous functionality on the <bold>Contact-US</bold> form page. "
   ]
  },
  {
   "cell_type": "markdown",
   "metadata": {},
   "source": [
    "### 27th Aspect - Blurry Loading Text <code> Javascript </code>"
   ]
  },
  {
   "cell_type": "markdown",
   "metadata": {},
   "source": [
    "<img src=\"gray_paper/27.PNG\" height=\"400\" width=\"auto\">"
   ]
  },
  {
   "cell_type": "markdown",
   "metadata": {},
   "source": [
    "* This <code> Javascript</code> snippet is a *user-defined function* that updates the *blurry loading* text. It also utilizes another <code>Javascript</code> defined function called <code>scaler()</code> that provides the constant numeric value update to pass into the <code> style.opacity </code> property. "
   ]
  },
  {
   "cell_type": "markdown",
   "metadata": {},
   "source": [
    "### 28th Aspect - User-Defined <code>Javascript</code> function called <code> Scaler()</code>"
   ]
  },
  {
   "cell_type": "markdown",
   "metadata": {},
   "source": [
    "<img src=\"gray_paper/28.PNG\" height=\"125\" width=\"auto\">"
   ]
  },
  {
   "cell_type": "markdown",
   "metadata": {},
   "source": [
    "* This *User-Defined* arrow function that returns to a constant called <code>Scaler()</code>. The <code>Arrow</code> function takes in five(5) parameters and returns a numeric value based on the scaler to provide the scaling for the <code> style.opacity</code> property. This is why the function returns a constant, and this constant numeric value is applied to our <code>blurring()</code> function above."
   ]
  },
  {
   "cell_type": "markdown",
   "metadata": {},
   "source": [
    "### 29th Aspect - Utilizing our <code>blurring</code> as an input for our <code>setInterval</code> function"
   ]
  },
  {
   "cell_type": "markdown",
   "metadata": {},
   "source": [
    "<img src=\"gray_paper/29.PNG\" height=\"100\" width=\"auto\">"
   ]
  },
  {
   "cell_type": "markdown",
   "metadata": {},
   "source": [
    "* We have a *user-defined* variable called <code> int</code> that is set to the numeric value that returns from the <code>setInterval(function_name,duration_delay)</code>. The <code>blurring()</code> function can be thought to be a helper function that returns the numerical integer that is needed in order to properly transition from a *blurry opacity* to a *clear opacity*. "
   ]
  },
  {
   "cell_type": "markdown",
   "metadata": {},
   "source": [
    "### 30th Aspect - <code>FORM</code> Element"
   ]
  },
  {
   "cell_type": "markdown",
   "metadata": {},
   "source": [
    "<img src=\"gray_paper/30.PNG\" height=\"550\" width=\"auto\">"
   ]
  }
 ],
 "metadata": {
  "interpreter": {
   "hash": "a64e78b79dd16248dc3e35fbe7b0a7e311956c2e14e2ab582dd14031c34b596b"
  },
  "kernelspec": {
   "display_name": "Python 3.8.8 64-bit",
   "language": "python",
   "name": "python3"
  },
  "language_info": {
   "name": "python",
   "version": "3.8.8"
  },
  "orig_nbformat": 4
 },
 "nbformat": 4,
 "nbformat_minor": 2
}
