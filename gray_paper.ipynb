{
 "cells": [
  {
   "cell_type": "markdown",
   "metadata": {},
   "source": [
    "# <ins>Bureau of Trash & Services -- BT&Se.d.</ins>"
   ]
  },
  {
   "cell_type": "markdown",
   "metadata": {},
   "source": [
    "## GRAY PAPER for BT&Se.d."
   ]
  },
  {
   "cell_type": "markdown",
   "metadata": {},
   "source": [
    "### 1st Aspect - Asset Folder"
   ]
  },
  {
   "cell_type": "markdown",
   "metadata": {},
   "source": [
    "<img src=\"./gray_paper/1.PNG\" width=\"400\" height=\"450\" />"
   ]
  },
  {
   "cell_type": "markdown",
   "metadata": {},
   "source": [
    "* I created an **assets** folder in order to ensure that all the .jpg images were housed in a readily found place, and to help with the file structure. This is something I will implement in future products for seperate .css, .js , and .html files."
   ]
  },
  {
   "cell_type": "markdown",
   "metadata": {},
   "source": [
    "### 2nd Aspect - Navigation Font-Awesome Icons"
   ]
  },
  {
   "cell_type": "markdown",
   "metadata": {},
   "source": [
    "<img src=\"./gray_paper/2.PNG\" width=\"1200\" height=\"450\" />"
   ]
  },
  {
   "cell_type": "markdown",
   "metadata": {},
   "source": [
    "* The website utilizes font-awesome icons which is a seperate framework that augments the website's CSS capabilties. This provides specific icons that are not readily found in the standard .css library "
   ]
  },
  {
   "cell_type": "markdown",
   "metadata": {},
   "source": [
    "### 3rd Aspect - Circle Container Navigation Bar "
   ]
  },
  {
   "cell_type": "markdown",
   "metadata": {},
   "source": [
    "<img src=\"./gray_paper/3.PNG\" width=\"600\" height=\"300\">"
   ]
  },
  {
   "cell_type": "markdown",
   "metadata": {},
   "source": [
    "* The **div** that is showcased here is the div that contains the button for the navigation bar. The navigation bar utilzes the script font-awesome icons that give the website a more personlized feel and aesthetic look."
   ]
  },
  {
   "cell_type": "markdown",
   "metadata": {},
   "source": [
    "### 4th Aspect - Font-Awesome Script Source"
   ]
  },
  {
   "cell_type": "markdown",
   "metadata": {},
   "source": [
    "<img src=\"./gray_paper/4.PNG\" width=\"auto\" height=\"75\">"
   ]
  },
  {
   "cell_type": "markdown",
   "metadata": {},
   "source": [
    "* This is an additional <code>script source</code> seperate from the traditional *script source* that provides the javascript dynamic functionality. Instead, this *script source* is what allows us to utilze the **font-awesome** icon libraries that are embededed in several portions of our code.  "
   ]
  },
  {
   "cell_type": "markdown",
   "metadata": {},
   "source": [
    "### 5th Aspect - Search Bar Functionality"
   ]
  },
  {
   "cell_type": "markdown",
   "metadata": {},
   "source": [
    "<img src=\"./gray_paper/5.PNG\" width=\"auto\" height=\"200\">"
   ]
  },
  {
   "cell_type": "markdown",
   "metadata": {},
   "source": [
    "* The website includes a **search bar** functionality that is found throughout the website. The **search feature** in conjunction with some <code>CSS</code> shrinks and dyanmically scales the search bar input feature once clicked. "
   ]
  },
  {
   "cell_type": "markdown",
   "metadata": {},
   "source": [
    "### 6th Aspect - Search Bar Dynamic Shrink/Show"
   ]
  },
  {
   "cell_type": "markdown",
   "metadata": {},
   "source": [
    "<img src=\"./gray_paper/6.PNG\" width=\"auto\" height=\"200\">"
   ]
  },
  {
   "cell_type": "markdown",
   "metadata": {},
   "source": [
    "* As mentioned above, the Javascript feature above provides the capability to hide and show the search bar feature once the *search-button* feature is clicked. "
   ]
  },
  {
   "cell_type": "markdown",
   "metadata": {},
   "source": [
    "### 7th Aspect - Navigation Bar Shown and Not Shown"
   ]
  },
  {
   "cell_type": "markdown",
   "metadata": {},
   "source": [
    "<img src=\"./gray_paper/7.PNG\" width=\"auto\" height=\"100\">"
   ]
  },
  {
   "cell_type": "markdown",
   "metadata": {},
   "source": [
    "* This is the javascript code that permits the navigation bar to show and to dissapear. In conjunction with the <code>CSS</code> and <code>HTML</code> rotates the webpage to show the navigation bar and then by clicking the *close* icon reverts the webpage to its original state by hiding the *navigation bar*. "
   ]
  },
  {
   "cell_type": "markdown",
   "metadata": {},
   "source": [
    "### 8th Aspect - Search Bar CSS "
   ]
  },
  {
   "cell_type": "markdown",
   "metadata": {},
   "source": [
    "<img src=\"./gray_paper/8.PNG\" width=\"1000\" height=\"600\">"
   ]
  },
  {
   "cell_type": "markdown",
   "metadata": {},
   "source": [
    "* The search bar CSS functionality that provides the transform and transition cues and paremeters to allow the icon to sit on-top of the search-bar and then expands once it is clicked with the <code> open, close, eventListener</code>."
   ]
  },
  {
   "cell_type": "markdown",
   "metadata": {},
   "source": [
    "### 9th Aspect - Font Family Integrated via GoogleAPI"
   ]
  },
  {
   "cell_type": "markdown",
   "metadata": {},
   "source": [
    "<img src=\"./gray_paper/9.PNG\" width=\"auto\" height=\"500\">"
   ]
  },
  {
   "cell_type": "markdown",
   "metadata": {},
   "source": [
    "* The website is personlized to include an aesthetic design that provideseasy readibility for its users. The website, depending on the browser will first try to load the custom but default font of *lato* which is imported via the *@import url()* feature. If the browser is unable to laod the *lato* font, it is then loaded with the default, readibly available font *sans-serif*."
   ]
  },
  {
   "cell_type": "markdown",
   "metadata": {},
   "source": [
    "### 10th Aspect - Circle Container CSS"
   ]
  },
  {
   "cell_type": "markdown",
   "metadata": {},
   "source": [
    "<img src=\"./gray_paper/11.PNG\" height=\"auto\" width=\"auto\">"
   ]
  },
  {
   "cell_type": "markdown",
   "metadata": {},
   "source": [
    "* This is the <code>CSS</code> that is formats the circle container and button. We remove the backround, and place the circle container in the top-left corner and rotate it to give it the aesthetic look that we are going for. Th button itself is removed and only the icons are left to give our website a very personalized look when users are clicking on it."
   ]
  },
  {
   "cell_type": "markdown",
   "metadata": {},
   "source": [
    "### 11th Aspect - Circle Button CSS Open and Close "
   ]
  },
  {
   "cell_type": "markdown",
   "metadata": {},
   "source": [
    "<img src=\"gray_paper/10.PNG\" height=\"auto\" width=\"auto\">"
   ]
  },
  {
   "cell_type": "markdown",
   "metadata": {},
   "source": [
    "* The <code>CSS</code> that allows us to juxtapose the positioning of the *open* and *close* font-awesome icons for the navigation bar."
   ]
  },
  {
   "cell_type": "markdown",
   "metadata": {},
   "source": []
  }
 ],
 "metadata": {
  "interpreter": {
   "hash": "a64e78b79dd16248dc3e35fbe7b0a7e311956c2e14e2ab582dd14031c34b596b"
  },
  "kernelspec": {
   "display_name": "Python 3.8.8 64-bit",
   "language": "python",
   "name": "python3"
  },
  "language_info": {
   "name": "python",
   "version": "3.8.8"
  },
  "orig_nbformat": 4
 },
 "nbformat": 4,
 "nbformat_minor": 2
}
